{
  "cells": [
    {
      "cell_type": "markdown",
      "metadata": {
        "id": "byLeumH-DTwA"
      },
      "source": [
        "## Bài 1\n",
        "- Cho số nguyên n, tìm số nguyên dương nhỏ nhất chia hết cho tất cả số nguyên từ 1 đến n. \n",
        "\n",
        "- Ví dụ: n = 10 -> 2520 (2520 là số nhỏ nhất chia hết cho tất cả các số nguyên từ 1 đến 10)."
      ]
    },
    {
      "cell_type": "code",
      "execution_count": 123,
      "metadata": {
        "id": "oMILj_UbDTwE"
      },
      "outputs": [],
      "source": [
        "def TimSo(n):\n",
        "    m = n;\n",
        "    while 1 == 1 :\n",
        "       flag = 1;\n",
        "       for i in (range( 1, n )):\n",
        "         if(m % i != 0): \n",
        "           flag  = 0;\n",
        "           break;\n",
        "       if(flag == 1):\n",
        "         break;\n",
        "       m = m + 1;\n",
        "    return m;"
      ]
    },
    {
      "cell_type": "code",
      "execution_count": 124,
      "metadata": {
        "colab": {
          "base_uri": "https://localhost:8080/"
        },
        "id": "Yg6m0ILdDTwF",
        "outputId": "7607b8df-9269-44d0-d063-157c5073d665"
      },
      "outputs": [
        {
          "output_type": "execute_result",
          "data": {
            "text/plain": [
              "2520"
            ]
          },
          "metadata": {},
          "execution_count": 124
        }
      ],
      "source": [
        "TimSo(10)"
      ]
    },
    {
      "cell_type": "markdown",
      "source": [
        ""
      ],
      "metadata": {
        "id": "KxnXWq4auuq3"
      }
    },
    {
      "cell_type": "markdown",
      "metadata": {
        "id": "grL97px2DTwG"
      },
      "source": [
        "## Bài 2a\n",
        "\n",
        "- Viết hàm `moveLeft(lst)` để dịch chuyển các phần tử của danh sách `lst` sang trái một vị trí.\n",
        "\n",
        "- Ví dụ: với `lst = [1, 5, 3, 4, 2]` thì `moveLeft(lst)` trả về `[5, 3, 4, 2, 1]`"
      ]
    },
    {
      "cell_type": "code",
      "execution_count": 125,
      "metadata": {
        "id": "D1GUIfkLDTwG"
      },
      "outputs": [],
      "source": [
        "from sys import maxunicode\n",
        "def moveLeft(lst):\n",
        "    k = 1;\n",
        "    lst2 = [];\n",
        "    tmp = 0;\n",
        "    removeLeft = k;\n",
        "    length = len(lst);\n",
        "    if(k >  length):\n",
        "      removeLeft = k - (k/length) * length;\n",
        "    for i in range(0,length):\n",
        "      j = i - removeLeft;\n",
        "      if(j < 0):\n",
        "        tmp = length + j;\n",
        "      else:\n",
        "        tmp = j;\n",
        "      lst2.insert(tmp,lst[i]);\n",
        "    return lst2;"
      ]
    },
    {
      "cell_type": "code",
      "execution_count": 126,
      "metadata": {
        "colab": {
          "base_uri": "https://localhost:8080/"
        },
        "id": "wfRxUh4IDTwH",
        "outputId": "475b9563-4f53-42ff-fc11-360614419e13"
      },
      "outputs": [
        {
          "output_type": "execute_result",
          "data": {
            "text/plain": [
              "[5, 3, 4, 2, 1]"
            ]
          },
          "metadata": {},
          "execution_count": 126
        }
      ],
      "source": [
        "lst = [1, 5, 3, 4, 2]\n",
        "moveLeft(lst)"
      ]
    },
    {
      "cell_type": "markdown",
      "metadata": {
        "id": "_LU0OgNoDTwH"
      },
      "source": [
        "## Bài 2b\n",
        "\n",
        "- Viết hàm `moveLeft(lst, k)` để dịch chuyển các phần tử của danh sách lst sang trái `k` vị trí.\n",
        "\n",
        "- Ví dụ: với lst = [1, 5, 3, 4, 2] thì moveLeft(lst, 3) trả về [4, 2, 1, 5, 3]"
      ]
    },
    {
      "cell_type": "code",
      "execution_count": 127,
      "metadata": {
        "id": "pXM1dQq4DTwI"
      },
      "outputs": [],
      "source": [
        "def moveLeft(lst, k):\n",
        "    lst2 = [];\n",
        "    tmp = 0;\n",
        "    removeLeft = k;\n",
        "    length = len(lst);\n",
        "    if(k >  length):\n",
        "      removeLeft = k - (k/length) * length;\n",
        "    for i in range(0,length):\n",
        "      j = i - removeLeft;\n",
        "      if(j < 0):\n",
        "        tmp = length + j;\n",
        "      else:\n",
        "        tmp = j;\n",
        "      lst2.insert(tmp,lst[i]);\n",
        "    return lst2;"
      ]
    },
    {
      "cell_type": "code",
      "execution_count": 128,
      "metadata": {
        "colab": {
          "base_uri": "https://localhost:8080/"
        },
        "id": "wF9CGJz2DTwI",
        "outputId": "89e6fee3-4c2d-4d37-d620-27f5ecf3ca45"
      },
      "outputs": [
        {
          "output_type": "execute_result",
          "data": {
            "text/plain": [
              "[4, 2, 1, 5, 3]"
            ]
          },
          "metadata": {},
          "execution_count": 128
        }
      ],
      "source": [
        "lst = [1, 5, 3, 4, 2]\n",
        "moveLeft(lst, 3)"
      ]
    },
    {
      "cell_type": "markdown",
      "metadata": {
        "id": "Fb4-PkE6DTwI"
      },
      "source": [
        "## Bài 3\n",
        "\n",
        "- Viết hàm trả về danh sách gồm các thừa số của số nguyên dương `n` khi phân tích thành nó tích của các thừa số nguyên tố. \n",
        "\n",
        "- Ví dụ: nếu `n = 120` thì hàm trả về danh sách [2, 2, 2, 3, 5] vì `120 = 2 ∗ 2 ∗ 2 ∗ 3 ∗ 5`."
      ]
    },
    {
      "cell_type": "code",
      "execution_count": 129,
      "metadata": {
        "id": "5Zd95ZuwDTwJ"
      },
      "outputs": [],
      "source": [
        "def PhanTichThuaSo(n):\n",
        "    # write your code here\n",
        "    kq = []\n",
        "    m = n;\n",
        "    while 1 ==1 :\n",
        "      for i in range(2,n):\n",
        "        dem = 0;\n",
        "        for j in range(2,i):\n",
        "          if((i % j == 0)):\n",
        "            dem = dem +1;\n",
        "            if(dem > 1):\n",
        "              break;\n",
        "        if ((dem <= 1) & ( m % i == 0)):\n",
        "              m = m/i;\n",
        "              kq.append(i);\n",
        "              break;\n",
        "      if m ==1 : \n",
        "        break;\n",
        "    return kq"
      ]
    },
    {
      "cell_type": "code",
      "execution_count": 130,
      "metadata": {
        "colab": {
          "base_uri": "https://localhost:8080/"
        },
        "id": "omsYlKplDTwJ",
        "outputId": "6f021563-f17e-48ce-b05d-d87ffcc703c1"
      },
      "outputs": [
        {
          "output_type": "execute_result",
          "data": {
            "text/plain": [
              "[2, 2, 2, 3, 5]"
            ]
          },
          "metadata": {},
          "execution_count": 130
        }
      ],
      "source": [
        "PhanTichThuaSo(120)"
      ]
    },
    {
      "cell_type": "markdown",
      "metadata": {
        "id": "Gb0x2bQ-DTwL"
      },
      "source": [
        "## Bài 5 \n",
        "- Viết hàm `intersect(lst1, lst2)` để tìm phần giao của 2 danh sách lst1 và lst2 (đã đươc sắp xếp tăng dần).\n",
        "\n",
        "- Ví dụ: với ***l1 = [2, 2, 2, 3, 5, 5, 7], l2 = [2, 2, 3, 3, 5, 7, 7, 7]*** thì ***intersect(l1, l2) = [2, 2, 3, 5, 7]***"
      ]
    },
    {
      "cell_type": "code",
      "execution_count": 131,
      "metadata": {
        "id": "5t5zfTzNDTwL"
      },
      "outputs": [],
      "source": [
        "def intersect(lst1, lst2):\n",
        "    # write your code here\n",
        "    lst = [];\n",
        "    lenth = 0;\n",
        "    if(len(lst1)<= len(lst2)):\n",
        "      length = len(lst1);\n",
        "    else:\n",
        "      length = len(lst2);\n",
        "    for i in range(0,length):\n",
        "      if(lst1[i] == lst2[i]):\n",
        "          lst.append(lst1[i]);\n",
        "    return lst"
      ]
    },
    {
      "cell_type": "code",
      "execution_count": 132,
      "metadata": {
        "colab": {
          "base_uri": "https://localhost:8080/"
        },
        "id": "Po3YLl5IDTwL",
        "outputId": "f105dd0b-549f-4eef-9719-d03c961f541f"
      },
      "outputs": [
        {
          "output_type": "execute_result",
          "data": {
            "text/plain": [
              "[2, 2, 3, 5, 7]"
            ]
          },
          "metadata": {},
          "execution_count": 132
        }
      ],
      "source": [
        "l1 = [2, 2, 2, 3, 5, 5, 7]\n",
        "l2 = [2, 2, 3, 3, 5, 7, 7, 7]\n",
        "intersect(l1, l2)"
      ]
    }
  ],
  "metadata": {
    "kernelspec": {
      "display_name": "Python 3",
      "language": "python",
      "name": "python3"
    },
    "language_info": {
      "codemirror_mode": {
        "name": "ipython",
        "version": 3
      },
      "file_extension": ".py",
      "mimetype": "text/x-python",
      "name": "python",
      "nbconvert_exporter": "python",
      "pygments_lexer": "ipython3",
      "version": "3.7.6"
    },
    "colab": {
      "name": "37_Trinh_Van_long_Lab0.ipynb",
      "provenance": [],
      "collapsed_sections": []
    }
  },
  "nbformat": 4,
  "nbformat_minor": 0
}